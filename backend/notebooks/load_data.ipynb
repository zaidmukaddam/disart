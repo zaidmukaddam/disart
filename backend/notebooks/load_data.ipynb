{
 "cells": [
  {
   "cell_type": "markdown",
   "id": "8095971a-da41-421f-9dcc-8258ea4cc1c6",
   "metadata": {},
   "source": [
    "# Loading data from the Harvard Art Museums\n",
    "\n",
    "This script loads all objects in the online collection of the [Harvard Art Museums](https://harvardartmuseums.org/collections).\n",
    "\n",
    "Requests are parallelized for maximum efficiency. Note that there may be IP-based rate limits on the website, so you won't necessarily be able to download the data at maximum network speed. It shouldn't take more than a few minutes though."
   ]
  },
  {
   "cell_type": "code",
   "execution_count": 1,
   "id": "12cfe555-0d4c-4c14-8d80-c72231c98564",
   "metadata": {},
   "outputs": [],
   "source": [
    "import asyncio\n",
    "import aiohttp\n",
    "\n",
    "import sys\n",
    "from aiohttp_retry import RetryClient\n",
    "from tqdm import tqdm"
   ]
  },
  {
   "cell_type": "code",
   "execution_count": 2,
   "id": "d9763dd9-6311-4d5a-8a69-d1d317365ecc",
   "metadata": {},
   "outputs": [],
   "source": [
    "async def load_page(client: aiohttp.ClientSession, num: int):\n",
    "    offset = 100 * num\n",
    "    async with client.get(f'https://harvardartmuseums.org/browse?load_amount=100&offset={offset}') as resp:\n",
    "        assert resp.status == 200\n",
    "        return await resp.json()\n",
    "\n",
    "async def load_data():\n",
    "    concurrency = 10\n",
    "\n",
    "    records = []\n",
    "    sema = asyncio.Semaphore(concurrency)\n",
    "\n",
    "    async with aiohttp.ClientSession() as client:\n",
    "        client = RetryClient(client)\n",
    "\n",
    "        metadata = (await load_page(client, 0))[\"info\"]  # type: ignore\n",
    "        n_pages = metadata['pages']\n",
    "        print(f\"found {metadata['totalrecords']} objects and {n_pages} pages\")\n",
    "\n",
    "        async def query_task(num: int) -> None:\n",
    "            try:\n",
    "                data = await load_page(client, i)  # type: ignore\n",
    "                records.extend(data['records'])\n",
    "            except Exception as e:\n",
    "                print(f\"request failure: {e}\", file=sys.stderr)\n",
    "            finally:\n",
    "                sema.release()\n",
    "\n",
    "        for i in tqdm(range(n_pages)):\n",
    "            await sema.acquire()\n",
    "            asyncio.create_task(query_task(i))\n",
    "\n",
    "    for _ in range(concurrency):\n",
    "        await sema.acquire()\n",
    "    \n",
    "    return records"
   ]
  },
  {
   "cell_type": "code",
   "execution_count": 3,
   "id": "fe3d2018-61bd-409c-a377-1630b002ffa4",
   "metadata": {},
   "outputs": [
    {
     "name": "stdout",
     "output_type": "stream",
     "text": [
      "found 242827 objects and 2429 pages\n"
     ]
    },
    {
     "name": "stderr",
     "output_type": "stream",
     "text": [
      "100%|██████████| 2429/2429 [05:24<00:00,  7.49it/s]\n",
      "request failure: Session is closed\n",
      "request failure: [Errno 1] [SSL: APPLICATION_DATA_AFTER_CLOSE_NOTIFY] application data after close notify (_ssl.c:2747)\n",
      "request failure: [Errno 1] [SSL: APPLICATION_DATA_AFTER_CLOSE_NOTIFY] application data after close notify (_ssl.c:2747)\n",
      "request failure: [Errno 1] [SSL: APPLICATION_DATA_AFTER_CLOSE_NOTIFY] application data after close notify (_ssl.c:2747)\n",
      "request failure: [Errno 1] [SSL: APPLICATION_DATA_AFTER_CLOSE_NOTIFY] application data after close notify (_ssl.c:2747)\n",
      "request failure: [Errno 1] [SSL: APPLICATION_DATA_AFTER_CLOSE_NOTIFY] application data after close notify (_ssl.c:2747)\n",
      "request failure: [Errno 1] [SSL: APPLICATION_DATA_AFTER_CLOSE_NOTIFY] application data after close notify (_ssl.c:2747)\n",
      "request failure: [Errno 1] [SSL: APPLICATION_DATA_AFTER_CLOSE_NOTIFY] application data after close notify (_ssl.c:2747)\n",
      "request failure: [Errno 1] [SSL: APPLICATION_DATA_AFTER_CLOSE_NOTIFY] application data after close notify (_ssl.c:2747)\n",
      "request failure: [Errno 1] [SSL: APPLICATION_DATA_AFTER_CLOSE_NOTIFY] application data after close notify (_ssl.c:2747)\n"
     ]
    }
   ],
   "source": [
    "data = await load_data()"
   ]
  },
  {
   "cell_type": "code",
   "execution_count": 4,
   "id": "c4b52add-ce10-4ba4-ae8c-bcb9d10ae0fb",
   "metadata": {},
   "outputs": [
    {
     "name": "stdout",
     "output_type": "stream",
     "text": [
      "Retrieved 241900 records, and 231500 distinct records\n"
     ]
    }
   ],
   "source": [
    "deduped_data = list({record['id']: record for record in data}.values())\n",
    "\n",
    "print(f\"Retrieved {len(data)} records, and {len(deduped_data)} distinct records\")"
   ]
  },
  {
   "cell_type": "code",
   "execution_count": 5,
   "id": "3a408c64-efd5-42a2-9db3-867512514943",
   "metadata": {},
   "outputs": [],
   "source": [
    "import json\n",
    "\n",
    "with open(\"../data/artmuseums.json\", \"w\") as f:\n",
    "    json.dump(deduped_data, f)"
   ]
  },
  {
   "cell_type": "code",
   "execution_count": null,
   "id": "669920da",
   "metadata": {},
   "outputs": [],
   "source": []
  }
 ],
 "metadata": {
  "kernelspec": {
   "display_name": "Python 3.8.8 ('env': venv)",
   "language": "python",
   "name": "python3"
  },
  "language_info": {
   "codemirror_mode": {
    "name": "ipython",
    "version": 3
   },
   "file_extension": ".py",
   "mimetype": "text/x-python",
   "name": "python",
   "nbconvert_exporter": "python",
   "pygments_lexer": "ipython3",
   "version": "3.8.8"
  },
  "vscode": {
   "interpreter": {
    "hash": "f73c7c9c36846fcfcaa7c2fc77599981d3b3f4847d52d6804d5b1f52b8076253"
   }
  }
 },
 "nbformat": 4,
 "nbformat_minor": 5
}
